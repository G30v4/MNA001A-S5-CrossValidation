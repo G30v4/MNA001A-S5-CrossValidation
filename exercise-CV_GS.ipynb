{
 "cells": [
  {
   "cell_type": "markdown",
   "metadata": {},
   "source": [
    "<h2><center><strong>MONDRAGON UNIBERSITATEA</strong></center></h2>\n",
    "<center><h2><strong>Goi Eskola Politeknikoa</strong></h2></center>\n",
    "<center><h3><strong>Fundamentos del Aprendizaje Automático</strong></h3></center>\n",
    "<center><img src=\"res/logo.png\" width=\"150\"/></center>\n",
    "\n",
    "* __Author__ = @G30v4\n",
    "* __Date__ = 22-10-2023\n",
    "* __Title__ = Validación de Modelos\n",
    "* __Version__ = 1.0\n",
    "\n",
    "## Objetivos :\n",
    "- Investigar la lógica matemática del algoritmo de validación cruzada \n",
    "- Implementar el algoritmo de validación cruzada\n",
    "- Implementar el algoritmo de GridSearch\n",
    "- Buscar los mejores parámetros para el clasificador RandomForest con el algoritmo GridSearch\n",
    "- Evaluar el algoritmo con el de la librería scikit-learn"
   ]
  },
  {
   "cell_type": "code",
   "execution_count": 101,
   "metadata": {},
   "outputs": [
    {
     "name": "stdout",
     "output_type": "stream",
     "text": [
      "Requirement already satisfied: scikit-learn in /data/MU-GOI/res/py/venv-3-11/lib64/python3.11/site-packages (1.3.1)\n",
      "Requirement already satisfied: numpy in /data/MU-GOI/res/py/venv-3-11/lib64/python3.11/site-packages (1.26.0)\n",
      "Requirement already satisfied: scipy>=1.5.0 in /data/MU-GOI/res/py/venv-3-11/lib64/python3.11/site-packages (from scikit-learn) (1.11.3)\n",
      "Requirement already satisfied: joblib>=1.1.1 in /data/MU-GOI/res/py/venv-3-11/lib64/python3.11/site-packages (from scikit-learn) (1.3.2)\n",
      "Requirement already satisfied: threadpoolctl>=2.0.0 in /data/MU-GOI/res/py/venv-3-11/lib64/python3.11/site-packages (from scikit-learn) (3.2.0)\n",
      "\n",
      "\u001b[1m[\u001b[0m\u001b[34;49mnotice\u001b[0m\u001b[1;39;49m]\u001b[0m\u001b[39;49m A new release of pip is available: \u001b[0m\u001b[31;49m23.2.1\u001b[0m\u001b[39;49m -> \u001b[0m\u001b[32;49m23.3\u001b[0m\n",
      "\u001b[1m[\u001b[0m\u001b[34;49mnotice\u001b[0m\u001b[1;39;49m]\u001b[0m\u001b[39;49m To update, run: \u001b[0m\u001b[32;49mpip install --upgrade pip\u001b[0m\n"
     ]
    }
   ],
   "source": [
    "# install dependencies\n",
    "!pip install scikit-learn numpy"
   ]
  }
 ],
 "metadata": {
  "kernelspec": {
   "display_name": "venv-3-11",
   "language": "python",
   "name": "python3"
  },
  "language_info": {
   "codemirror_mode": {
    "name": "ipython",
    "version": 3
   },
   "file_extension": ".py",
   "mimetype": "text/x-python",
   "name": "python",
   "nbconvert_exporter": "python",
   "pygments_lexer": "ipython3",
   "version": "3.11.6"
  }
 },
 "nbformat": 4,
 "nbformat_minor": 2
}
